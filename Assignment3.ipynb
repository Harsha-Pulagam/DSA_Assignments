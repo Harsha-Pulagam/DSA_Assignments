{
 "cells": [
  {
   "attachments": {},
   "cell_type": "markdown",
   "metadata": {},
   "source": [
    "**Question 1**\n",
    "Given an integer array nums of length n and an integer target, find three integers\n",
    "in nums such that the sum is closest to the target.\n",
    "Return the sum of the three integers.\n",
    "\n",
    "You may assume that each input would have exactly one solution.\n",
    "\n",
    "**Example 1:**\n",
    "Input: nums = [-1,2,1,-4], target = 1\n",
    "Output: 2\n",
    "\n",
    "**Explanation:** The sum that is closest to the target is 2. (-1 + 2 + 1 = 2)."
   ]
  },
  {
   "cell_type": "code",
   "execution_count": 2,
   "metadata": {},
   "outputs": [],
   "source": [
    "#TC = O(n^2)\n",
    "#SC = O(1)\n",
    "def threeSumClosest(nums, target):\n",
    "    nums.sort()\n",
    "    min_till_now=float('inf')\n",
    "    p1=0\n",
    "    p2=1\n",
    "    p3=len(nums)-1\n",
    "    ans = 0\n",
    "    while p1<len(nums)-2:\n",
    "        while p2<p3:\n",
    "            c_sum = nums[p1]+nums[p2]+nums[p3]\n",
    "            c_min = abs(target - c_sum)\n",
    "        \n",
    "            if c_min <min_till_now:\n",
    "                min_till_now = c_min\n",
    "                ans = c_sum\n",
    "\n",
    "            if c_sum == target:\n",
    "                return target\n",
    "            elif c_sum < target:\n",
    "                p2 +=1\n",
    "            else:\n",
    "                p3 -=1\n",
    "        \n",
    "        p1 +=1\n",
    "        p2 =p1+1\n",
    "        p3 =len(nums)-1\n",
    "    return ans"
   ]
  },
  {
   "cell_type": "code",
   "execution_count": 3,
   "metadata": {},
   "outputs": [
    {
     "data": {
      "text/plain": [
       "2"
      ]
     },
     "execution_count": 3,
     "metadata": {},
     "output_type": "execute_result"
    }
   ],
   "source": [
    "nums = [-1,2,1,-4]\n",
    "target = 1\n",
    "threeSumClosest(nums, target)"
   ]
  },
  {
   "attachments": {},
   "cell_type": "markdown",
   "metadata": {},
   "source": [
    "**Question 2**\n",
    "Given an array nums of n integers, return an array of all the unique quadruplets\n",
    "[nums[a], nums[b], nums[c], nums[d]] such that:\n",
    "           ● 0 <= a, b, c, d < n\n",
    "           ● a, b, c, and d are distinct.\n",
    "           ● nums[a] + nums[b] + nums[c] + nums[d] == target\n",
    "\n",
    "You may return the answer in any order.\n",
    "\n",
    "**Example 1:**\n",
    "Input: nums = [1,0,-1,0,-2,2], target = 0\n",
    "Output: [[-2,-1,1,2],[-2,0,0,2],[-1,0,0,1]]"
   ]
  },
  {
   "cell_type": "code",
   "execution_count": 5,
   "metadata": {},
   "outputs": [],
   "source": [
    "#TC=O(n^3)\n",
    "#SC=O(1)\n",
    "def fourSum(nums,target):\n",
    "    nums.sort()\n",
    "    ans=[]\n",
    "    p1=0\n",
    "    p2=p1+1\n",
    "    p3=p2+1\n",
    "    p4=len(nums)-1\n",
    "\n",
    "    while p1<len(nums)-3:\n",
    "        while p2<len(nums)-2:\n",
    "            while p3<p4:\n",
    "                c_sum = nums[p1]+nums[p2]+nums[p3]+nums[p4]\n",
    "                if c_sum == target:\n",
    "                    x = [nums[p1],nums[p2],nums[p3],nums[p4]]\n",
    "                    if x not in ans:\n",
    "                        ans.append(x)\n",
    "                    p3+=1\n",
    "                elif c_sum < target:\n",
    "                    p3 +=1\n",
    "                else:\n",
    "                    p4 -=1\n",
    "                \n",
    "            p2 +=1\n",
    "            p3 =p2+1\n",
    "            p4=len(nums)-1\n",
    "        p1 +=1\n",
    "        p2 =p1+1\n",
    "        p3 =p2+1\n",
    "        p4 =len(nums)-1\n",
    "    \n",
    "    return ans"
   ]
  },
  {
   "cell_type": "code",
   "execution_count": 6,
   "metadata": {},
   "outputs": [
    {
     "data": {
      "text/plain": [
       "[[-2, -1, 1, 2], [-2, 0, 0, 2], [-1, 0, 0, 1]]"
      ]
     },
     "execution_count": 6,
     "metadata": {},
     "output_type": "execute_result"
    }
   ],
   "source": [
    "nums = [1,0,-1,0,-2,2]\n",
    "target = 0\n",
    "fourSum(nums,target)"
   ]
  },
  {
   "attachments": {},
   "cell_type": "markdown",
   "metadata": {},
   "source": [
    "**Question 3**\n",
    "A permutation of an array of integers is an arrangement of its members into a\n",
    "sequence or linear order.\n",
    "\n",
    "For example, for arr = [1,2,3], the following are all the permutations of arr:\n",
    "[1,2,3], [1,3,2], [2, 1, 3], [2, 3, 1], [3,1,2], [3,2,1].\n",
    "\n",
    "The next permutation of an array of integers is the next lexicographically greater\n",
    "permutation of its integer. More formally, if all the permutations of the array are\n",
    "sorted in one container according to their lexicographical order, then the next\n",
    "permutation of that array is the permutation that follows it in the sorted container.\n",
    "\n",
    "If such an arrangement is not possible, the array must be rearranged as the\n",
    "lowest possible order (i.e., sorted in ascending order).\n",
    "\n",
    "● For example, the next permutation of arr = [1,2,3] is [1,3,2].\n",
    "● Similarly, the next permutation of arr = [2,3,1] is [3,1,2].\n",
    "● While the next permutation of arr = [3,2,1] is [1,2,3] because [3,2,1] does not\n",
    "have a lexicographical larger rearrangement.\n",
    "\n",
    "Given an array of integers nums, find the next permutation of nums.\n",
    "The replacement must be in place and use only constant extra memory.\n",
    "\n",
    "**Example 1:**\n",
    "Input: nums = [1,2,3]\n",
    "Output: [1,3,2]\n"
   ]
  },
  {
   "cell_type": "code",
   "execution_count": 7,
   "metadata": {},
   "outputs": [],
   "source": [
    "#TC =O(n)\n",
    "#SC =O(1)\n",
    "def nextPermutation(nums):\n",
    "        def rev(nums,i):\n",
    "            start = i\n",
    "            end = len(nums)-1\n",
    "            while start<end:  \n",
    "                        nums[start],nums[end]=nums[end],nums[start]\n",
    "                        start +=1\n",
    "                        end -=1\n",
    "\n",
    "        p1 = len(nums)-2\n",
    "        while p1 >=0:\n",
    "            if nums[p1+1] > nums[p1]:\n",
    "                break\n",
    "            else:\n",
    "                p1 -=1\n",
    "        if p1>=0:\n",
    "            p2 = len(nums)-1\n",
    "            while p1<p2:\n",
    "                if nums[p2]>nums[p1]:\n",
    "                    nums[p2],nums[p1] = nums[p1],nums[p2]\n",
    "                    break\n",
    "                else:\n",
    "                    p2-=1\n",
    "        \n",
    "        rev(nums, p1+1)\n",
    "        return nums"
   ]
  },
  {
   "cell_type": "code",
   "execution_count": 8,
   "metadata": {},
   "outputs": [
    {
     "data": {
      "text/plain": [
       "[1, 3, 2]"
      ]
     },
     "execution_count": 8,
     "metadata": {},
     "output_type": "execute_result"
    }
   ],
   "source": [
    "nums=[1,2,3]\n",
    "nextPermutation(nums)"
   ]
  },
  {
   "attachments": {},
   "cell_type": "markdown",
   "metadata": {},
   "source": [
    "**Question 4**\n",
    "Given a sorted array of distinct integers and a target value, return the index if the\n",
    "target is found. If not, return the index where it would be if it were inserted in\n",
    "order.\n",
    "\n",
    "You must write an algorithm with O(log n) runtime complexity.\n",
    "\n",
    "**Example 1:**\n",
    "Input: nums = [1,3,5,6], target = 5\n",
    "Output: 2"
   ]
  },
  {
   "cell_type": "code",
   "execution_count": 9,
   "metadata": {},
   "outputs": [],
   "source": [
    "#TC=O(logn)\n",
    "#SC=O(1)\n",
    "def binarysearch(l1,target):\n",
    "    lp=0\n",
    "    rp=len(l1)-1\n",
    "    while lp<=rp:\n",
    "        mid=int((lp+rp)/2)\n",
    "        if l1[mid] == target:\n",
    "            return mid\n",
    "        elif l1[mid]> target:\n",
    "            rp = mid -1\n",
    "        else:\n",
    "            lp = mid +1\n",
    "    return lp"
   ]
  },
  {
   "cell_type": "code",
   "execution_count": 10,
   "metadata": {},
   "outputs": [
    {
     "data": {
      "text/plain": [
       "2"
      ]
     },
     "execution_count": 10,
     "metadata": {},
     "output_type": "execute_result"
    }
   ],
   "source": [
    "nums = [1,3,5,6]\n",
    "target = 5\n",
    "binarysearch(nums,target)"
   ]
  },
  {
   "attachments": {},
   "cell_type": "markdown",
   "metadata": {},
   "source": [
    "**Question 5**\n",
    "You are given a large integer represented as an integer array digits, where each\n",
    "digits[i] is the ith digit of the integer. The digits are ordered from most significant\n",
    "to least significant in left-to-right order. The large integer does not contain any\n",
    "leading 0's.\n",
    "\n",
    "Increment the large integer by one and return the resulting array of digits.\n",
    "\n",
    "**Example 1:**\n",
    "Input: digits = [1,2,3]\n",
    "Output: [1,2,4]\n",
    "\n",
    "**Explanation:** The array represents the integer 123.\n",
    "Incrementing by one gives 123 + 1 = 124.\n",
    "Thus, the result should be [1,2,4].\n"
   ]
  },
  {
   "cell_type": "code",
   "execution_count": 11,
   "metadata": {},
   "outputs": [],
   "source": [
    "#TC = O(n)\n",
    "#SC = O(1)\n",
    "digits = [9,9,9,9]\n",
    "def digitplusone(digits):\n",
    "    rp = len(digits)-1\n",
    "    for i in range(len(digits)):\n",
    "        if digits[rp]<9:\n",
    "            digits[rp] = digits[rp] +1\n",
    "            break\n",
    "        else:\n",
    "            digits[rp] = 0\n",
    "            rp -= 1\n",
    "    if digits[0]==0:\n",
    "        digits.append(1)\n",
    "        digits[0],digits[len(digits)-1]=digits[len(digits)-1],digits[0]\n",
    "    return digits"
   ]
  },
  {
   "cell_type": "code",
   "execution_count": 12,
   "metadata": {},
   "outputs": [
    {
     "data": {
      "text/plain": [
       "[9, 0, 0, 0]"
      ]
     },
     "execution_count": 12,
     "metadata": {},
     "output_type": "execute_result"
    }
   ],
   "source": [
    "digits = [8,9,9,9]\n",
    "digitplusone(digits)"
   ]
  },
  {
   "attachments": {},
   "cell_type": "markdown",
   "metadata": {},
   "source": [
    "**Question 6**\n",
    "Given a non-empty array of integers nums, every element appears twice except\n",
    "for one. Find that single one.\n",
    "\n",
    "You must implement a solution with a linear runtime complexity and use only\n",
    "constant extra space.\n",
    "\n",
    "**Example 1:**\n",
    "Input: nums = [2,2,1]\n",
    "Output: 1"
   ]
  },
  {
   "cell_type": "code",
   "execution_count": 31,
   "metadata": {},
   "outputs": [],
   "source": [
    "#To get O(n) we are using bitwise operator\n",
    "#TC = O(n)\n",
    "#SC = O(1)\n",
    "def singleNumber(nums):\n",
    "        xor = 0\n",
    "        for x in nums:\n",
    "            xor ^= x\n",
    "        \n",
    "        return xor"
   ]
  },
  {
   "cell_type": "code",
   "execution_count": 32,
   "metadata": {},
   "outputs": [
    {
     "data": {
      "text/plain": [
       "1"
      ]
     },
     "execution_count": 32,
     "metadata": {},
     "output_type": "execute_result"
    }
   ],
   "source": [
    "nums = [2,2,1]\n",
    "singleNumber(nums)\n"
   ]
  },
  {
   "attachments": {},
   "cell_type": "markdown",
   "metadata": {},
   "source": [
    "**Question 7**\n",
    "You are given an inclusive range [lower, upper] and a sorted unique integer array\n",
    "nums, where all elements are within the inclusive range.\n",
    "\n",
    "A number x is considered missing if x is in the range [lower, upper] and x is not in\n",
    "nums.\n",
    "\n",
    "Return the shortest sorted list of ranges that exactly covers all the missing\n",
    "numbers. That is, no element of nums is included in any of the ranges, and each\n",
    "missing number is covered by one of the ranges.\n",
    "\n",
    "**Example 1:**\n",
    "Input: nums = [0,1,3,50,75], lower = 0, upper = 99\n",
    "Output: [[2,2],[4,49],[51,74],[76,99]]\n",
    "\n",
    "**Explanation:** The ranges are:\n",
    "[2,2]\n",
    "[4,49]\n",
    "[51,74]\n",
    "[76,99]"
   ]
  },
  {
   "cell_type": "code",
   "execution_count": 26,
   "metadata": {},
   "outputs": [],
   "source": [
    "#TC = O(n)\n",
    "#SC = O(1)\n",
    "def incrange(nums,lower,upper):\n",
    "    ans=[]\n",
    "    p1=1\n",
    "    if nums[p1-1]!= lower:\n",
    "        ans.append([lower,nums[p1-1]-1])\n",
    "        \n",
    "    while p1<len(nums):    \n",
    "        if nums[p1-1]+1 !=nums[p1]:\n",
    "            ans.append([nums[p1-1]+1,nums[p1]-1])\n",
    "        p1 +=1\n",
    "    \n",
    "    if nums[p1-1] != upper:\n",
    "        ans.append([nums[p1-1]+1,upper])\n",
    "    return ans\n"
   ]
  },
  {
   "cell_type": "code",
   "execution_count": 27,
   "metadata": {},
   "outputs": [
    {
     "data": {
      "text/plain": [
       "[[2, 2], [4, 49], [51, 74], [76, 99]]"
      ]
     },
     "execution_count": 27,
     "metadata": {},
     "output_type": "execute_result"
    }
   ],
   "source": [
    "nums=[0,1,3,50,75]\n",
    "upper=99\n",
    "lower=0\n",
    "incrange(nums,lower,upper)"
   ]
  },
  {
   "attachments": {},
   "cell_type": "markdown",
   "metadata": {},
   "source": [
    "**Question 8**\n",
    "Given an array of meeting time intervals where intervals[i] = [starti, endi],\n",
    "determine if a person could attend all meetings.\n",
    "\n",
    "**Example 1:**\n",
    "Input: intervals = [[0,30],[5,10],[15,20]]\n",
    "Output: false"
   ]
  },
  {
   "cell_type": "code",
   "execution_count": 18,
   "metadata": {},
   "outputs": [],
   "source": [
    "#TC = O(nlogn)\n",
    "#SC = O(1)\n",
    "def attendmeeting(intervals):\n",
    "    intervals.sort()\n",
    "    p1=1\n",
    "    while p1<len(intervals)-1:\n",
    "        if intervals[p1-1][1]>intervals[p1][0]:\n",
    "            return False\n",
    "        else:\n",
    "            p1 +=1\n",
    "    return True\n",
    "        "
   ]
  },
  {
   "cell_type": "code",
   "execution_count": 20,
   "metadata": {},
   "outputs": [
    {
     "data": {
      "text/plain": [
       "False"
      ]
     },
     "execution_count": 20,
     "metadata": {},
     "output_type": "execute_result"
    }
   ],
   "source": [
    "intervals = [[0,30],[5,10],[15,20]]\n",
    "attendmeeting(intervals)"
   ]
  },
  {
   "cell_type": "code",
   "execution_count": null,
   "metadata": {},
   "outputs": [],
   "source": []
  }
 ],
 "metadata": {
  "kernelspec": {
   "display_name": "base",
   "language": "python",
   "name": "python3"
  },
  "language_info": {
   "codemirror_mode": {
    "name": "ipython",
    "version": 3
   },
   "file_extension": ".py",
   "mimetype": "text/x-python",
   "name": "python",
   "nbconvert_exporter": "python",
   "pygments_lexer": "ipython3",
   "version": "3.9.13"
  },
  "orig_nbformat": 4
 },
 "nbformat": 4,
 "nbformat_minor": 2
}
