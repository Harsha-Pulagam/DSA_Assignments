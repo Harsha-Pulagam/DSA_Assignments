{
 "cells": [
  {
   "attachments": {},
   "cell_type": "markdown",
   "metadata": {},
   "source": [
    "**Q1.** Given an array of integers nums and an integer target, return indices of the two numbers such that they add up to target.\n",
    "\n",
    "You may assume that each input would have exactly one solution, and you may not use the same element twice.\n",
    "\n",
    "You can return the answer in any order.\n",
    "\n",
    "**Example:** Input: nums = [2,7,11,15], target = 9 Output0 [0,1]\n",
    "\n",
    "**Explanation:** Because nums[0] + nums[1] == 9, we return [0, 1]"
   ]
  },
  {
   "cell_type": "code",
   "execution_count": 24,
   "metadata": {},
   "outputs": [],
   "source": [
    "#BruteForce\n",
    "#TC = O(n^2)\n",
    "#SC = O(1)\n",
    "def twoSum(nums, target):\n",
    "    l1=list()\n",
    "    i=1\n",
    "    \n",
    "    while i<len(nums):\n",
    "        k = i\n",
    "        while k<len(nums):\n",
    "            if (nums[i-1]+ nums[k]) == target:\n",
    "                l1.append(i-1)\n",
    "                l1.append(k)\n",
    "            k = k+1\n",
    "        i = i+1\n",
    "    return l1"
   ]
  },
  {
   "cell_type": "code",
   "execution_count": 22,
   "metadata": {},
   "outputs": [],
   "source": [
    "#TC=O(n)\n",
    "#SC=O(n)\n",
    "def sum_two_num(nums,target):\n",
    "    d ={}\n",
    "    i=0\n",
    "    while i<len(nums):\n",
    "        if str(target-nums[i]) in d.keys():\n",
    "            return [d[str(target-nums[i])],i]\n",
    "        else:\n",
    "            d[str(nums[i])] = i\n",
    "        i +=1"
   ]
  },
  {
   "cell_type": "code",
   "execution_count": 25,
   "metadata": {},
   "outputs": [
    {
     "data": {
      "text/plain": [
       "[0, 1]"
      ]
     },
     "execution_count": 25,
     "metadata": {},
     "output_type": "execute_result"
    }
   ],
   "source": [
    "nums = [2,7,11,15]\n",
    "target = 9\n",
    "sum_two_num(nums,target)"
   ]
  },
  {
   "cell_type": "code",
   "execution_count": 27,
   "metadata": {},
   "outputs": [
    {
     "data": {
      "text/plain": [
       "[0, 1]"
      ]
     },
     "execution_count": 27,
     "metadata": {},
     "output_type": "execute_result"
    }
   ],
   "source": [
    "twoSum(nums, target)"
   ]
  },
  {
   "attachments": {},
   "cell_type": "markdown",
   "metadata": {},
   "source": [
    "**Q2.** Given an integer array nums and an integer val, remove all occurrences of val in nums in-place. The order of the elements may be changed. Then return the number of elements in nums which are not equal to val.\n",
    "\n",
    "Consider the number of elements in nums which are not equal to val be k, to get accepted, you need to do the following things:\n",
    "\n",
    "-   Change the array nums such that the first k elements of nums contain the elements which are not equal to val. The remaining elements of nums are not important as well as the size of nums.\n",
    "-   Return k.\n",
    "\n",
    "**Example :** Input: nums = [3,2,2,3], val = 3 Output: 2, nums = [2,2,**,**]\n",
    "\n",
    "**Explanation:** Your function should return k = 2, with the first two elements of nums being 2. It does not matter what you leave beyond the returned k (hence they are underscores)"
   ]
  },
  {
   "cell_type": "code",
   "execution_count": 92,
   "metadata": {},
   "outputs": [],
   "source": [
    "#TC = O(n)\n",
    "#SC = O(1)\n",
    "def removeElement(nums, val):\n",
    "    p1 = 0\n",
    "    p2 = len(nums)-1\n",
    "    while p1 < len(nums):\n",
    "        if nums[p1] == val:\n",
    "            nums[p1],nums[p2] = nums[p2],nums[p1]\n",
    "            nums.pop(p2)\n",
    "            p2 -=1\n",
    "        else:\n",
    "            p1+=1\n",
    "    return len(nums)"
   ]
  },
  {
   "cell_type": "code",
   "execution_count": 93,
   "metadata": {},
   "outputs": [
    {
     "data": {
      "text/plain": [
       "2"
      ]
     },
     "execution_count": 93,
     "metadata": {},
     "output_type": "execute_result"
    }
   ],
   "source": [
    "nums= [3,2,2,3]\n",
    "val = 3\n",
    "removeElement(nums, val)"
   ]
  },
  {
   "attachments": {},
   "cell_type": "markdown",
   "metadata": {},
   "source": [
    "**Q3.** Given a sorted array of distinct integers and a target value, return the index if the target is found. If not, return the index where it would be if it were inserted in order.\n",
    "\n",
    "You must write an algorithm with O(log n) runtime complexity.\n",
    "\n",
    "**Example 1:** Input: nums = [1,3,5,6], target = 5\n",
    "\n",
    "Output: 2\n"
   ]
  },
  {
   "cell_type": "code",
   "execution_count": 1,
   "metadata": {},
   "outputs": [],
   "source": [
    "#TC=O(logn)\n",
    "#SC=O(1)\n",
    "def binarysearch(l1,target):\n",
    "    lp=0\n",
    "    rp=len(l1)-1\n",
    "    while lp<=rp:\n",
    "        mid=int((lp+rp)/2)\n",
    "        if l1[mid] == target:\n",
    "            return mid\n",
    "        elif l1[mid]> target:\n",
    "            rp = mid -1\n",
    "        else:\n",
    "            lp = mid +1\n",
    "    return lp"
   ]
  },
  {
   "cell_type": "code",
   "execution_count": 2,
   "metadata": {},
   "outputs": [
    {
     "data": {
      "text/plain": [
       "2"
      ]
     },
     "execution_count": 2,
     "metadata": {},
     "output_type": "execute_result"
    }
   ],
   "source": [
    "nums = [1,3,5,6]\n",
    "target = 5\n",
    "binarysearch(nums,target)"
   ]
  },
  {
   "attachments": {},
   "cell_type": "markdown",
   "metadata": {},
   "source": [
    "**Q4.** You are given a large integer represented as an integer array digits, where each digits[i] is the ith digit of the integer. The digits are ordered from most significant to least significant in left-to-right order. The large integer does not contain any leading 0's.\n",
    "\n",
    "Increment the large integer by one and return the resulting array of digits.\n",
    "\n",
    "**Example 1:** Input: digits = [1,2,3] Output: [1,2,4]\n",
    "\n",
    "**Explanation:** The array represents the integer 123.\n",
    "\n",
    "Incrementing by one gives 123 + 1 = 124. Thus, the result should be [1,2,4]."
   ]
  },
  {
   "cell_type": "code",
   "execution_count": 17,
   "metadata": {},
   "outputs": [],
   "source": [
    "#TC = O(n)\n",
    "#SC = O(1)\n",
    "digits = [9,9,9,9]\n",
    "def digitplusone(digits):\n",
    "    rp = len(digits)-1\n",
    "    for i in range(len(digits)):\n",
    "        if digits[rp]<9:\n",
    "            digits[rp] = digits[rp] +1\n",
    "            break\n",
    "        else:\n",
    "            digits[rp] = 0\n",
    "            rp -= 1\n",
    "    if digits[0]==0:\n",
    "        digits.append(1)\n",
    "        digits[0],digits[len(digits)-1]=digits[len(digits)-1],digits[0]\n",
    "    return digits\n",
    "        "
   ]
  },
  {
   "cell_type": "code",
   "execution_count": 19,
   "metadata": {},
   "outputs": [
    {
     "data": {
      "text/plain": [
       "[9, 0, 0, 0]"
      ]
     },
     "execution_count": 19,
     "metadata": {},
     "output_type": "execute_result"
    }
   ],
   "source": [
    "digits = [8,9,9,9]\n",
    "digitplusone(digits)"
   ]
  },
  {
   "attachments": {},
   "cell_type": "markdown",
   "metadata": {},
   "source": [
    "**Q5.** You are given two integer arrays nums1 and nums2, sorted in non-decreasing order, and two integers m and n, representing the number of elements in nums1 and nums2 respectively.\n",
    "\n",
    "Merge nums1 and nums2 into a single array sorted in non-decreasing order.\n",
    "\n",
    "The final sorted array should not be returned by the function, but instead be stored inside the array nums1. To accommodate this, nums1 has a length of m + n, where the first m elements denote the elements that should be merged, and the last n elements are set to 0 and should be ignored. nums2 has a length of n.\n",
    "\n",
    "**Example 1:** Input: nums1 = [1,2,3,0,0,0], m = 3, nums2 = [2,5,6], n = 3 Output: [1,2,2,3,5,6]\n",
    "\n",
    "**Explanation:** The arrays we are merging are [1,2,3] and [2,5,6]. The result of the merge is [1,2,2,3,5,6] with the underlined elements coming from nums1.\n"
   ]
  },
  {
   "cell_type": "code",
   "execution_count": 3,
   "metadata": {},
   "outputs": [],
   "source": [
    "#TC = O(n)\n",
    "#SC = O(1)\n",
    "def mergearray(nums1,nums2,m,n):\n",
    "    p=m+n-1\n",
    "    p2=n-1\n",
    "    p1=m-1\n",
    "    while p1>=0 and p2>=0:\n",
    "        if nums1[p1]>nums2[p2]:\n",
    "            nums1[p]=nums1[p1]\n",
    "            p1 -=1\n",
    "        else:\n",
    "            nums1[p]=nums2[p2]\n",
    "            p2-=1\n",
    "        p -=1\n",
    "    \n",
    "    while p2>=0:\n",
    "        nums1[p] = nums2[p2]\n",
    "        p2-=1\n",
    "        p -=1\n",
    "    return nums1"
   ]
  },
  {
   "cell_type": "code",
   "execution_count": 4,
   "metadata": {},
   "outputs": [
    {
     "data": {
      "text/plain": [
       "[1, 2, 2, 3, 5, 6]"
      ]
     },
     "execution_count": 4,
     "metadata": {},
     "output_type": "execute_result"
    }
   ],
   "source": [
    "nums1 = [1,2,3,0,0,0]\n",
    "m = 3\n",
    "nums2 = [2,5,6]\n",
    "n = 3\n",
    "mergearray(nums1,nums2,m,n)"
   ]
  },
  {
   "attachments": {},
   "cell_type": "markdown",
   "metadata": {},
   "source": [
    "**Q6.** Given an integer array nums, return true if any value appears at least twice in the array, and return false if every element is distinct.\n",
    "\n",
    "**Example 1:** Input: nums = [1,2,3,1]\n",
    "\n",
    "Output: true"
   ]
  },
  {
   "cell_type": "code",
   "execution_count": 21,
   "metadata": {},
   "outputs": [],
   "source": [
    "#TC = O(n)\n",
    "#SC = O(n)\n",
    "def containsDuplicate(nums):\n",
    "        hash_set = set()\n",
    "        for x in nums:\n",
    "            if x in hash_set:\n",
    "                return True\n",
    "            else:\n",
    "                hash_set.add(x)\n",
    "\n",
    "        return False"
   ]
  },
  {
   "cell_type": "code",
   "execution_count": 22,
   "metadata": {},
   "outputs": [
    {
     "data": {
      "text/plain": [
       "True"
      ]
     },
     "execution_count": 22,
     "metadata": {},
     "output_type": "execute_result"
    }
   ],
   "source": [
    "nums=[1,2,3,1]\n",
    "containsDuplicate(nums)"
   ]
  },
  {
   "attachments": {},
   "cell_type": "markdown",
   "metadata": {},
   "source": [
    "**Q7.** Given an integer array nums, move all 0's to the end of it while maintaining the relative order of the nonzero elements.\n",
    "\n",
    "Note that you must do this in-place without making a copy of the array.\n",
    "\n",
    "**Example 1:** Input: nums = [0,1,0,3,12] Output: [1,3,12,0,0]"
   ]
  },
  {
   "cell_type": "code",
   "execution_count": 23,
   "metadata": {},
   "outputs": [],
   "source": [
    "#TC = O(n) = n+(n-p)\n",
    "#SC = O(1)\n",
    "def movezeros(nums):    \n",
    "    p=0\n",
    "    for i in range(len(nums)):\n",
    "        if nums[i]!=0:\n",
    "            nums[p] = nums[i]\n",
    "            p +=1\n",
    "    while p< len(nums):\n",
    "        nums[p] =0\n",
    "        p +=1\n",
    "    return nums"
   ]
  },
  {
   "cell_type": "code",
   "execution_count": 24,
   "metadata": {},
   "outputs": [
    {
     "data": {
      "text/plain": [
       "[1, 3, 12, 0, 0]"
      ]
     },
     "execution_count": 24,
     "metadata": {},
     "output_type": "execute_result"
    }
   ],
   "source": [
    "nums = [0,1,0,3,12]\n",
    "movezeros(nums)"
   ]
  },
  {
   "cell_type": "code",
   "execution_count": null,
   "metadata": {},
   "outputs": [],
   "source": [
    "#2pointer approach\n",
    "#TC  = O(n) one iiteration through list\n",
    "#SC = O(1)\n",
    "#Approach\n",
    "#assign pointer_nonzero and pointer2 to element 1\n",
    "#if pointer2 to points at zero just move pointer2 to next element\n",
    "#if ponter2 points non zero swap thata value with pointer_nonzero and move both ponter farword\n",
    "def movezeros1(nums):\n",
    "    p1=0\n",
    "    p2=0\n",
    "    while p2<len(nums):\n",
    "        if nums[p2]!=0:\n",
    "            nums[p1],nums[p2] = nums[p2],nums[p1]\n",
    "            p1 +=1\n",
    "            p2 +=1\n",
    "        else:\n",
    "            p2 +=1"
   ]
  },
  {
   "attachments": {},
   "cell_type": "markdown",
   "metadata": {},
   "source": [
    "**Q8.** You have a set of integers s, which originally contains all the numbers from 1 to n. Unfortunately, due to some error, one of the numbers in s got duplicated to another number in the set, which results in repetition of one number and loss of another number.\n",
    "\n",
    "You are given an integer array nums representing the data status of this set after the error.\n",
    "\n",
    "Find the number that occurs twice and the number that is missing and return them in the form of an array.\n",
    "\n",
    "**Example 1:** Input: nums = [1,2,2,4] Output: [2,3]\n"
   ]
  },
  {
   "cell_type": "code",
   "execution_count": 27,
   "metadata": {},
   "outputs": [],
   "source": [
    "#TC = O(n)\n",
    "#SC = O(1)\n",
    "def missingpair(nums):\n",
    "    i=1\n",
    "    while i<len(nums):\n",
    "        if nums[i-1] == nums[i]:\n",
    "            return [i,i+1]\n",
    "        i+=1"
   ]
  },
  {
   "cell_type": "code",
   "execution_count": 28,
   "metadata": {},
   "outputs": [
    {
     "data": {
      "text/plain": [
       "[2, 3]"
      ]
     },
     "execution_count": 28,
     "metadata": {},
     "output_type": "execute_result"
    }
   ],
   "source": [
    "nums = [1,2,2,4]\n",
    "missingpair(nums)"
   ]
  },
  {
   "cell_type": "code",
   "execution_count": null,
   "metadata": {},
   "outputs": [],
   "source": []
  }
 ],
 "metadata": {
  "kernelspec": {
   "display_name": "base",
   "language": "python",
   "name": "python3"
  },
  "language_info": {
   "codemirror_mode": {
    "name": "ipython",
    "version": 3
   },
   "file_extension": ".py",
   "mimetype": "text/x-python",
   "name": "python",
   "nbconvert_exporter": "python",
   "pygments_lexer": "ipython3",
   "version": "3.9.13"
  },
  "orig_nbformat": 4
 },
 "nbformat": 4,
 "nbformat_minor": 2
}
